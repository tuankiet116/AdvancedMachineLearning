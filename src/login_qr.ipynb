{
 "cells": [
  {
   "cell_type": "code",
   "execution_count": null,
   "metadata": {},
   "outputs": [],
   "source": [
    "import numpy as np"
   ]
  },
  {
   "cell_type": "code",
   "execution_count": null,
   "metadata": {},
   "outputs": [],
   "source": [
    "def preprocess(frame, outs):\n",
    "    frameHeight, frameWidth = frame.shape[:2]\n",
    "\n",
    "    classIds = []\n",
    "    confidences = []\n",
    "    boxes = []\n",
    "\n",
    "    for out in outs:\n",
    "        for detection in out:\n",
    "            scores = detection[5:]\n",
    "            classId = np.argmax(scores)\n",
    "            confidence = scores[classId]\n",
    "            if confidence > threshold:\n",
    "                x, y, width, height = detection[:4] * np.array(\n",
    "                    [frameWidth, frameHeight, frameWidth, frameHeight])\n",
    "                left = int(x - width / 2)\n",
    "                top = int(y - height / 2)\n",
    "                classIds.append(classId)\n",
    "                confidences.append(float(confidence))\n",
    "                boxes.append([left, top, int(width), int(height)])\n",
    "\n",
    "    indices = cv2.dnn.NMSBoxes(boxes, confidences, threshold, threshold - 0.1)\n",
    "\n",
    "    for i in indices:\n",
    "        i = i\n",
    "        box = boxes[i]\n",
    "        left = box[0]\n",
    "        top = box[1]\n",
    "        width = box[2]\n",
    "        height = box[3]\n",
    "        cropped_image = frame[top:top + height, left:left + width]\n",
    "\n",
    "        # Capture image QR code\n",
    "        img_name = \"qr_code.png\"\n",
    "        img = cv2.imwrite(img_name, cropped_image)\n",
    "        path = \"./application_data/qr_code\"\n",
    "        cv2.imwrite(os.path.join(path, img_name), img)\n",
    "\n",
    "        # Draw bounding box for objects\n",
    "        cv2.rectangle(frame, (left, top),\n",
    "                      (left + width, top + height), (0, 0, 255))\n"
   ]
  }
 ],
 "metadata": {
  "language_info": {
   "name": "python"
  },
  "orig_nbformat": 4
 },
 "nbformat": 4,
 "nbformat_minor": 2
}
